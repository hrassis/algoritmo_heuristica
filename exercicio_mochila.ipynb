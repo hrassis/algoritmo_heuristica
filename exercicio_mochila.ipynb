{
  "nbformat": 4,
  "nbformat_minor": 0,
  "metadata": {
    "colab": {
      "name": "exercicio_mochila.ipynb",
      "provenance": [],
      "collapsed_sections": []
    },
    "kernelspec": {
      "name": "python3",
      "display_name": "Python 3"
    }
  },
  "cells": [
    {
      "cell_type": "code",
      "metadata": {
        "id": "m1UDys4ipMB8",
        "colab_type": "code",
        "colab": {}
      },
      "source": [
        "import pandas as pd\n",
        "\n",
        "#Itens disponíveis para preencher a mochila\n",
        "itens = pd.read_csv('https://raw.githubusercontent.com/hrassis/algoritmo_heuristica/master/exercicio_mochila.csv')"
      ],
      "execution_count": 0,
      "outputs": []
    },
    {
      "cell_type": "code",
      "metadata": {
        "id": "Qq2iJ1CFmb3t",
        "colab_type": "code",
        "colab": {}
      },
      "source": [
        "#Método que preenche uma mochila de capacidade 'capacidade_mochila' de acordo com uma característica do item\n",
        "def PreencherMochilaPorCaracteristicaDoItem(capacidade_mochila, caracteristica, menor_para_maior_valor):\n",
        "\n",
        "  #Ordena o dataframe 'itens' de acordo com a característica\n",
        "  itens_ordenados = itens.sort_values(by = caracteristica, ascending = menor_para_maior_valor)\n",
        "\n",
        "  #Cria um dataframe para representar a mochila\n",
        "  itens_mochila = pd.DataFrame(columns=itens.columns)\n",
        "\n",
        "  #Peso acumulado da mochila\n",
        "  peso_acumulado = 0\n",
        "\n",
        "  #Percorre os itens disponíveis\n",
        "  for i, item in itens_ordenados.iterrows():\n",
        "\n",
        "    #Verifica se o item pode ser adicionado à mochila\n",
        "    if item[itens.PESO.name] <= capacidade_mochila - peso_acumulado:\n",
        "      \n",
        "      #Adiciona o item na mochila\n",
        "      itens_mochila = itens_mochila.append({'ITEM':item['ITEM'], 'PESO':item['PESO'], 'VALOR':item['VALOR'],'VALOR_POR_PESO': item['VALOR_POR_PESO'],'PESO_POR_VALOR': item['PESO_POR_VALOR']}, ignore_index = True)\n",
        "\n",
        "      #Atualiza o peso acumulado, ou seja, o peso atual da mochila\n",
        "      peso_acumulado = peso_acumulado + item[itens.PESO.name]\n",
        "\n",
        "  return itens_mochila"
      ],
      "execution_count": 0,
      "outputs": []
    },
    {
      "cell_type": "code",
      "metadata": {
        "id": "8ruolsfspDsK",
        "colab_type": "code",
        "colab": {
          "base_uri": "https://localhost:8080/",
          "height": 765
        },
        "outputId": "332afdf4-c8f9-4879-bb88-c0aba25e9676"
      },
      "source": [
        "#-------- MAIN --------#\n",
        "\n",
        "#Capacidade da mochila, em kg\n",
        "capacidade_mochila = 20\n",
        "\n",
        "#Imprime os itens\n",
        "print('Itens disponíveis para preencher uma mochila com capacidade de',capacidade_mochila,'kg', end = '\\n\\n')\n",
        "print(itens)\n",
        "print('-----------------------------------------------------', end = '\\n\\n')\n",
        "\n",
        "#Regra 1: Preencher a mochila com base nos itens de maior valor\n",
        "mochila  = PreencherMochilaPorCaracteristicaDoItem(capacidade_mochila,'VALOR',False)\n",
        "print('Mochila preenchida com base nos itens de maior valor', end = '\\n\\n')\n",
        "print(mochila, end = '\\n\\n')\n",
        "print('Mochila preenchida com', mochila.shape[0],'item(s). Valor total: R$', mochila['VALOR'].sum())\n",
        "print('-----------------------------------------------------', end = '\\n\\n')\n",
        "\n",
        "#Regra 2: Preencher a mochila com base nos itens de menor peso\n",
        "mochila  = PreencherMochilaPorCaracteristicaDoItem(capacidade_mochila,'PESO',True)\n",
        "print('Mochila preenchida com base nos itens de menor peso', end = '\\n\\n')\n",
        "print(mochila, end = '\\n\\n')\n",
        "print('Mochila preenchida com', mochila.shape[0], 'item(s). Valor total: R$', mochila['VALOR'].sum())\n",
        "print('-----------------------------------------------------', end = '\\n\\n')\n",
        "\n",
        "#Regra 3: Preencher a mochila com base na maior razão valor/peso\n",
        "mochila  = PreencherMochilaPorCaracteristicaDoItem(capacidade_mochila,'VALOR_POR_PESO',False)\n",
        "print('Mochila preenchida com base na maior razão valor/peso', end = '\\n\\n')\n",
        "print(mochila, end = '\\n\\n')\n",
        "print('Mochila preenchida com', mochila.shape[0], 'item(s). Valor total: R$', mochila['VALOR'].sum())\n",
        "print('-----------------------------------------------------', end = '\\n\\n')"
      ],
      "execution_count": 159,
      "outputs": [
        {
          "output_type": "stream",
          "text": [
            "Itens disponíveis para preencher uma mochila com capacidade de 20 kg\n",
            "\n",
            "   ITEM  PESO  VALOR  VALOR_POR_PESO  PESO_POR_VALOR\n",
            "0     1     2      6            3.00            0.33\n",
            "1     2     4     10            2.50            0.40\n",
            "2     3     5     16            3.20            0.31\n",
            "3     4     3      7            2.33            0.43\n",
            "4     5     8     20            2.50            0.40\n",
            "5     6     6     15            2.50            0.40\n",
            "-----------------------------------------------------\n",
            "\n",
            "Mochila preenchida com base nos itens de maior valor\n",
            "\n",
            "   ITEM  PESO  VALOR  VALOR_POR_PESO  PESO_POR_VALOR\n",
            "0   5.0   8.0   20.0             2.5            0.40\n",
            "1   3.0   5.0   16.0             3.2            0.31\n",
            "2   6.0   6.0   15.0             2.5            0.40\n",
            "\n",
            "Mochila preenchida com 3 item(s). Valor total: R$ 51.0\n",
            "-----------------------------------------------------\n",
            "\n",
            "Mochila preenchida com base nos itens de menor peso\n",
            "\n",
            "   ITEM  PESO  VALOR  VALOR_POR_PESO  PESO_POR_VALOR\n",
            "0   1.0   2.0    6.0            3.00            0.33\n",
            "1   4.0   3.0    7.0            2.33            0.43\n",
            "2   2.0   4.0   10.0            2.50            0.40\n",
            "3   3.0   5.0   16.0            3.20            0.31\n",
            "4   6.0   6.0   15.0            2.50            0.40\n",
            "\n",
            "Mochila preenchida com 5 item(s). Valor total: R$ 54.0\n",
            "-----------------------------------------------------\n",
            "\n",
            "Mochila preenchida com base na maior razão valor/peso\n",
            "\n",
            "   ITEM  PESO  VALOR  VALOR_POR_PESO  PESO_POR_VALOR\n",
            "0   3.0   5.0   16.0             3.2            0.31\n",
            "1   1.0   2.0    6.0             3.0            0.33\n",
            "2   2.0   4.0   10.0             2.5            0.40\n",
            "3   5.0   8.0   20.0             2.5            0.40\n",
            "\n",
            "Mochila preenchida com 4 item(s). Valor total: R$ 52.0\n",
            "-----------------------------------------------------\n",
            "\n"
          ],
          "name": "stdout"
        }
      ]
    }
  ]
}